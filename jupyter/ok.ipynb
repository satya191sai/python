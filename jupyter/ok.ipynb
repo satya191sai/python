{
 "cells": [
  {
   "cell_type": "code",
   "execution_count": 5,
   "id": "3ab6ebd8-b8d6-421d-acfd-3eacb8ab4d06",
   "metadata": {},
   "outputs": [
    {
     "name": "stdout",
     "output_type": "stream",
     "text": [
      "{'ename': 'satya', 'id': 22, 'sal': 98689}\n",
      "dict_keys(['ename', 'id', 'sal'])\n",
      "dict_values(['satya', 22, 98689])\n"
     ]
    }
   ],
   "source": [
    "emp={'ename':\"satya\",\n",
    "    'id':22,\n",
    "    'sal':98689}\n",
    "print(emp)\n",
    "print(emp.keys())\n",
    "print(emp.values())\n"
   ]
  },
  {
   "cell_type": "code",
   "execution_count": null,
   "id": "351d2f3e-e349-497f-8178-57f7568cfc2d",
   "metadata": {},
   "outputs": [],
   "source": []
  }
 ],
 "metadata": {
  "kernelspec": {
   "display_name": "Python 3 (ipykernel)",
   "language": "python",
   "name": "python3"
  },
  "language_info": {
   "codemirror_mode": {
    "name": "ipython",
    "version": 3
   },
   "file_extension": ".py",
   "mimetype": "text/x-python",
   "name": "python",
   "nbconvert_exporter": "python",
   "pygments_lexer": "ipython3",
   "version": "3.13.2"
  }
 },
 "nbformat": 4,
 "nbformat_minor": 5
}
